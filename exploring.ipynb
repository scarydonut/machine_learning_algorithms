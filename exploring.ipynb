{
 "cells": [
  {
   "cell_type": "code",
   "execution_count": 1,
   "id": "ebe0a93c-af25-423a-b13a-2d4aa3095d77",
   "metadata": {},
   "outputs": [],
   "source": [
    "import numpy as np\n",
    "import pandas as pd\n"
   ]
  },
  {
   "cell_type": "code",
   "execution_count": 2,
   "id": "30e6e3e2-9ace-490f-ba81-810a5fb28066",
   "metadata": {},
   "outputs": [],
   "source": [
    "df = pd.read_csv('crop.csv')\n"
   ]
  },
  {
   "cell_type": "code",
   "execution_count": 3,
   "id": "a140c8f6-b595-4b45-a0cf-eedf1d928269",
   "metadata": {},
   "outputs": [
    {
     "data": {
      "text/html": [
       "<div>\n",
       "<style scoped>\n",
       "    .dataframe tbody tr th:only-of-type {\n",
       "        vertical-align: middle;\n",
       "    }\n",
       "\n",
       "    .dataframe tbody tr th {\n",
       "        vertical-align: top;\n",
       "    }\n",
       "\n",
       "    .dataframe thead th {\n",
       "        text-align: right;\n",
       "    }\n",
       "</style>\n",
       "<table border=\"1\" class=\"dataframe\">\n",
       "  <thead>\n",
       "    <tr style=\"text-align: right;\">\n",
       "      <th></th>\n",
       "      <th>Rain Fall (mm)</th>\n",
       "      <th>Fertilizer</th>\n",
       "      <th>Temperatue</th>\n",
       "      <th>Nitrogen (N)</th>\n",
       "      <th>Phosphorus (P)</th>\n",
       "      <th>Potassium (K)</th>\n",
       "      <th>Yeild (Q/acre)</th>\n",
       "    </tr>\n",
       "  </thead>\n",
       "  <tbody>\n",
       "    <tr>\n",
       "      <th>0</th>\n",
       "      <td>1230.0</td>\n",
       "      <td>80.0</td>\n",
       "      <td>28</td>\n",
       "      <td>80.0</td>\n",
       "      <td>24.0</td>\n",
       "      <td>20.0</td>\n",
       "      <td>12.0</td>\n",
       "    </tr>\n",
       "    <tr>\n",
       "      <th>1</th>\n",
       "      <td>480.0</td>\n",
       "      <td>60.0</td>\n",
       "      <td>36</td>\n",
       "      <td>70.0</td>\n",
       "      <td>20.0</td>\n",
       "      <td>18.0</td>\n",
       "      <td>8.0</td>\n",
       "    </tr>\n",
       "    <tr>\n",
       "      <th>2</th>\n",
       "      <td>1250.0</td>\n",
       "      <td>75.0</td>\n",
       "      <td>29</td>\n",
       "      <td>78.0</td>\n",
       "      <td>22.0</td>\n",
       "      <td>19.0</td>\n",
       "      <td>11.0</td>\n",
       "    </tr>\n",
       "    <tr>\n",
       "      <th>3</th>\n",
       "      <td>450.0</td>\n",
       "      <td>65.0</td>\n",
       "      <td>35</td>\n",
       "      <td>70.0</td>\n",
       "      <td>19.0</td>\n",
       "      <td>18.0</td>\n",
       "      <td>9.0</td>\n",
       "    </tr>\n",
       "    <tr>\n",
       "      <th>4</th>\n",
       "      <td>1200.0</td>\n",
       "      <td>80.0</td>\n",
       "      <td>27</td>\n",
       "      <td>79.0</td>\n",
       "      <td>22.0</td>\n",
       "      <td>19.0</td>\n",
       "      <td>11.0</td>\n",
       "    </tr>\n",
       "    <tr>\n",
       "      <th>...</th>\n",
       "      <td>...</td>\n",
       "      <td>...</td>\n",
       "      <td>...</td>\n",
       "      <td>...</td>\n",
       "      <td>...</td>\n",
       "      <td>...</td>\n",
       "      <td>...</td>\n",
       "    </tr>\n",
       "    <tr>\n",
       "      <th>104</th>\n",
       "      <td>NaN</td>\n",
       "      <td>NaN</td>\n",
       "      <td>NaN</td>\n",
       "      <td>NaN</td>\n",
       "      <td>NaN</td>\n",
       "      <td>NaN</td>\n",
       "      <td>NaN</td>\n",
       "    </tr>\n",
       "    <tr>\n",
       "      <th>105</th>\n",
       "      <td>NaN</td>\n",
       "      <td>NaN</td>\n",
       "      <td>NaN</td>\n",
       "      <td>NaN</td>\n",
       "      <td>NaN</td>\n",
       "      <td>NaN</td>\n",
       "      <td>NaN</td>\n",
       "    </tr>\n",
       "    <tr>\n",
       "      <th>106</th>\n",
       "      <td>NaN</td>\n",
       "      <td>NaN</td>\n",
       "      <td>NaN</td>\n",
       "      <td>NaN</td>\n",
       "      <td>NaN</td>\n",
       "      <td>NaN</td>\n",
       "      <td>NaN</td>\n",
       "    </tr>\n",
       "    <tr>\n",
       "      <th>107</th>\n",
       "      <td>NaN</td>\n",
       "      <td>NaN</td>\n",
       "      <td>NaN</td>\n",
       "      <td>NaN</td>\n",
       "      <td>NaN</td>\n",
       "      <td>NaN</td>\n",
       "      <td>NaN</td>\n",
       "    </tr>\n",
       "    <tr>\n",
       "      <th>108</th>\n",
       "      <td>NaN</td>\n",
       "      <td>NaN</td>\n",
       "      <td>:</td>\n",
       "      <td>NaN</td>\n",
       "      <td>NaN</td>\n",
       "      <td>NaN</td>\n",
       "      <td>NaN</td>\n",
       "    </tr>\n",
       "  </tbody>\n",
       "</table>\n",
       "<p>109 rows × 7 columns</p>\n",
       "</div>"
      ],
      "text/plain": [
       "     Rain Fall (mm)  Fertilizer Temperatue  Nitrogen (N)  Phosphorus (P)  \\\n",
       "0            1230.0        80.0         28          80.0            24.0   \n",
       "1             480.0        60.0         36          70.0            20.0   \n",
       "2            1250.0        75.0         29          78.0            22.0   \n",
       "3             450.0        65.0         35          70.0            19.0   \n",
       "4            1200.0        80.0         27          79.0            22.0   \n",
       "..              ...         ...        ...           ...             ...   \n",
       "104             NaN         NaN        NaN           NaN             NaN   \n",
       "105             NaN         NaN        NaN           NaN             NaN   \n",
       "106             NaN         NaN        NaN           NaN             NaN   \n",
       "107             NaN         NaN        NaN           NaN             NaN   \n",
       "108             NaN         NaN          :           NaN             NaN   \n",
       "\n",
       "     Potassium (K)  Yeild (Q/acre)  \n",
       "0             20.0            12.0  \n",
       "1             18.0             8.0  \n",
       "2             19.0            11.0  \n",
       "3             18.0             9.0  \n",
       "4             19.0            11.0  \n",
       "..             ...             ...  \n",
       "104            NaN             NaN  \n",
       "105            NaN             NaN  \n",
       "106            NaN             NaN  \n",
       "107            NaN             NaN  \n",
       "108            NaN             NaN  \n",
       "\n",
       "[109 rows x 7 columns]"
      ]
     },
     "execution_count": 3,
     "metadata": {},
     "output_type": "execute_result"
    }
   ],
   "source": [
    "df"
   ]
  },
  {
   "cell_type": "code",
   "execution_count": 4,
   "id": "eeb03a98-5d6e-48e7-8dd9-1ef9a09693fe",
   "metadata": {},
   "outputs": [
    {
     "name": "stdout",
     "output_type": "stream",
     "text": [
      "     Rain Fall (mm)  Fertilizer Temperatue  Nitrogen (N)  Phosphorus (P)  \\\n",
      "0            1230.0        80.0         28          80.0            24.0   \n",
      "1             480.0        60.0         36          70.0            20.0   \n",
      "2            1250.0        75.0         29          78.0            22.0   \n",
      "3             450.0        65.0         35          70.0            19.0   \n",
      "4            1200.0        80.0         27          79.0            22.0   \n",
      "..              ...         ...        ...           ...             ...   \n",
      "104             NaN         NaN        NaN           NaN             NaN   \n",
      "105             NaN         NaN        NaN           NaN             NaN   \n",
      "106             NaN         NaN        NaN           NaN             NaN   \n",
      "107             NaN         NaN        NaN           NaN             NaN   \n",
      "108             NaN         NaN          :           NaN             NaN   \n",
      "\n",
      "     Potassium (K)  Yeild (Q/acre)  \n",
      "0             20.0            12.0  \n",
      "1             18.0             8.0  \n",
      "2             19.0            11.0  \n",
      "3             18.0             9.0  \n",
      "4             19.0            11.0  \n",
      "..             ...             ...  \n",
      "104            NaN             NaN  \n",
      "105            NaN             NaN  \n",
      "106            NaN             NaN  \n",
      "107            NaN             NaN  \n",
      "108            NaN             NaN  \n",
      "\n",
      "[109 rows x 7 columns]\n"
     ]
    }
   ],
   "source": [
    "print(df)"
   ]
  },
  {
   "cell_type": "code",
   "execution_count": 5,
   "id": "18e80f8f-88a9-49c4-99f4-b66dcf0755aa",
   "metadata": {},
   "outputs": [
    {
     "data": {
      "text/html": [
       "<div>\n",
       "<style scoped>\n",
       "    .dataframe tbody tr th:only-of-type {\n",
       "        vertical-align: middle;\n",
       "    }\n",
       "\n",
       "    .dataframe tbody tr th {\n",
       "        vertical-align: top;\n",
       "    }\n",
       "\n",
       "    .dataframe thead th {\n",
       "        text-align: right;\n",
       "    }\n",
       "</style>\n",
       "<table border=\"1\" class=\"dataframe\">\n",
       "  <thead>\n",
       "    <tr style=\"text-align: right;\">\n",
       "      <th></th>\n",
       "      <th>Rain Fall (mm)</th>\n",
       "      <th>Fertilizer</th>\n",
       "      <th>Temperatue</th>\n",
       "      <th>Nitrogen (N)</th>\n",
       "      <th>Phosphorus (P)</th>\n",
       "      <th>Potassium (K)</th>\n",
       "      <th>Yeild (Q/acre)</th>\n",
       "    </tr>\n",
       "  </thead>\n",
       "  <tbody>\n",
       "    <tr>\n",
       "      <th>0</th>\n",
       "      <td>1230.0</td>\n",
       "      <td>80.0</td>\n",
       "      <td>28</td>\n",
       "      <td>80.0</td>\n",
       "      <td>24.0</td>\n",
       "      <td>20.0</td>\n",
       "      <td>12.0</td>\n",
       "    </tr>\n",
       "    <tr>\n",
       "      <th>1</th>\n",
       "      <td>480.0</td>\n",
       "      <td>60.0</td>\n",
       "      <td>36</td>\n",
       "      <td>70.0</td>\n",
       "      <td>20.0</td>\n",
       "      <td>18.0</td>\n",
       "      <td>8.0</td>\n",
       "    </tr>\n",
       "    <tr>\n",
       "      <th>2</th>\n",
       "      <td>1250.0</td>\n",
       "      <td>75.0</td>\n",
       "      <td>29</td>\n",
       "      <td>78.0</td>\n",
       "      <td>22.0</td>\n",
       "      <td>19.0</td>\n",
       "      <td>11.0</td>\n",
       "    </tr>\n",
       "    <tr>\n",
       "      <th>3</th>\n",
       "      <td>450.0</td>\n",
       "      <td>65.0</td>\n",
       "      <td>35</td>\n",
       "      <td>70.0</td>\n",
       "      <td>19.0</td>\n",
       "      <td>18.0</td>\n",
       "      <td>9.0</td>\n",
       "    </tr>\n",
       "    <tr>\n",
       "      <th>4</th>\n",
       "      <td>1200.0</td>\n",
       "      <td>80.0</td>\n",
       "      <td>27</td>\n",
       "      <td>79.0</td>\n",
       "      <td>22.0</td>\n",
       "      <td>19.0</td>\n",
       "      <td>11.0</td>\n",
       "    </tr>\n",
       "  </tbody>\n",
       "</table>\n",
       "</div>"
      ],
      "text/plain": [
       "   Rain Fall (mm)  Fertilizer Temperatue  Nitrogen (N)  Phosphorus (P)  \\\n",
       "0          1230.0        80.0         28          80.0            24.0   \n",
       "1           480.0        60.0         36          70.0            20.0   \n",
       "2          1250.0        75.0         29          78.0            22.0   \n",
       "3           450.0        65.0         35          70.0            19.0   \n",
       "4          1200.0        80.0         27          79.0            22.0   \n",
       "\n",
       "   Potassium (K)  Yeild (Q/acre)  \n",
       "0           20.0            12.0  \n",
       "1           18.0             8.0  \n",
       "2           19.0            11.0  \n",
       "3           18.0             9.0  \n",
       "4           19.0            11.0  "
      ]
     },
     "execution_count": 5,
     "metadata": {},
     "output_type": "execute_result"
    }
   ],
   "source": [
    "df.head()"
   ]
  },
  {
   "cell_type": "code",
   "execution_count": 6,
   "id": "6b6a0015-0344-430a-9062-f54d9ac560a3",
   "metadata": {},
   "outputs": [
    {
     "data": {
      "text/html": [
       "<div>\n",
       "<style scoped>\n",
       "    .dataframe tbody tr th:only-of-type {\n",
       "        vertical-align: middle;\n",
       "    }\n",
       "\n",
       "    .dataframe tbody tr th {\n",
       "        vertical-align: top;\n",
       "    }\n",
       "\n",
       "    .dataframe thead th {\n",
       "        text-align: right;\n",
       "    }\n",
       "</style>\n",
       "<table border=\"1\" class=\"dataframe\">\n",
       "  <thead>\n",
       "    <tr style=\"text-align: right;\">\n",
       "      <th></th>\n",
       "      <th>Rain Fall (mm)</th>\n",
       "      <th>Fertilizer</th>\n",
       "      <th>Temperatue</th>\n",
       "      <th>Nitrogen (N)</th>\n",
       "      <th>Phosphorus (P)</th>\n",
       "      <th>Potassium (K)</th>\n",
       "      <th>Yeild (Q/acre)</th>\n",
       "    </tr>\n",
       "  </thead>\n",
       "  <tbody>\n",
       "    <tr>\n",
       "      <th>104</th>\n",
       "      <td>NaN</td>\n",
       "      <td>NaN</td>\n",
       "      <td>NaN</td>\n",
       "      <td>NaN</td>\n",
       "      <td>NaN</td>\n",
       "      <td>NaN</td>\n",
       "      <td>NaN</td>\n",
       "    </tr>\n",
       "    <tr>\n",
       "      <th>105</th>\n",
       "      <td>NaN</td>\n",
       "      <td>NaN</td>\n",
       "      <td>NaN</td>\n",
       "      <td>NaN</td>\n",
       "      <td>NaN</td>\n",
       "      <td>NaN</td>\n",
       "      <td>NaN</td>\n",
       "    </tr>\n",
       "    <tr>\n",
       "      <th>106</th>\n",
       "      <td>NaN</td>\n",
       "      <td>NaN</td>\n",
       "      <td>NaN</td>\n",
       "      <td>NaN</td>\n",
       "      <td>NaN</td>\n",
       "      <td>NaN</td>\n",
       "      <td>NaN</td>\n",
       "    </tr>\n",
       "    <tr>\n",
       "      <th>107</th>\n",
       "      <td>NaN</td>\n",
       "      <td>NaN</td>\n",
       "      <td>NaN</td>\n",
       "      <td>NaN</td>\n",
       "      <td>NaN</td>\n",
       "      <td>NaN</td>\n",
       "      <td>NaN</td>\n",
       "    </tr>\n",
       "    <tr>\n",
       "      <th>108</th>\n",
       "      <td>NaN</td>\n",
       "      <td>NaN</td>\n",
       "      <td>:</td>\n",
       "      <td>NaN</td>\n",
       "      <td>NaN</td>\n",
       "      <td>NaN</td>\n",
       "      <td>NaN</td>\n",
       "    </tr>\n",
       "  </tbody>\n",
       "</table>\n",
       "</div>"
      ],
      "text/plain": [
       "     Rain Fall (mm)  Fertilizer Temperatue  Nitrogen (N)  Phosphorus (P)  \\\n",
       "104             NaN         NaN        NaN           NaN             NaN   \n",
       "105             NaN         NaN        NaN           NaN             NaN   \n",
       "106             NaN         NaN        NaN           NaN             NaN   \n",
       "107             NaN         NaN        NaN           NaN             NaN   \n",
       "108             NaN         NaN          :           NaN             NaN   \n",
       "\n",
       "     Potassium (K)  Yeild (Q/acre)  \n",
       "104            NaN             NaN  \n",
       "105            NaN             NaN  \n",
       "106            NaN             NaN  \n",
       "107            NaN             NaN  \n",
       "108            NaN             NaN  "
      ]
     },
     "execution_count": 6,
     "metadata": {},
     "output_type": "execute_result"
    }
   ],
   "source": [
    "df.tail()"
   ]
  },
  {
   "cell_type": "code",
   "execution_count": 7,
   "id": "85f5f70b-46ca-4dd6-a12f-a1bca0c89341",
   "metadata": {},
   "outputs": [
    {
     "data": {
      "text/html": [
       "<div>\n",
       "<style scoped>\n",
       "    .dataframe tbody tr th:only-of-type {\n",
       "        vertical-align: middle;\n",
       "    }\n",
       "\n",
       "    .dataframe tbody tr th {\n",
       "        vertical-align: top;\n",
       "    }\n",
       "\n",
       "    .dataframe thead th {\n",
       "        text-align: right;\n",
       "    }\n",
       "</style>\n",
       "<table border=\"1\" class=\"dataframe\">\n",
       "  <thead>\n",
       "    <tr style=\"text-align: right;\">\n",
       "      <th></th>\n",
       "      <th>Rain Fall (mm)</th>\n",
       "      <th>Fertilizer</th>\n",
       "      <th>Nitrogen (N)</th>\n",
       "      <th>Phosphorus (P)</th>\n",
       "      <th>Potassium (K)</th>\n",
       "      <th>Yeild (Q/acre)</th>\n",
       "    </tr>\n",
       "  </thead>\n",
       "  <tbody>\n",
       "    <tr>\n",
       "      <th>count</th>\n",
       "      <td>99.000000</td>\n",
       "      <td>99.000000</td>\n",
       "      <td>99.000000</td>\n",
       "      <td>99.000000</td>\n",
       "      <td>99.000000</td>\n",
       "      <td>99.000000</td>\n",
       "    </tr>\n",
       "    <tr>\n",
       "      <th>mean</th>\n",
       "      <td>849.797980</td>\n",
       "      <td>67.808081</td>\n",
       "      <td>70.737374</td>\n",
       "      <td>21.131313</td>\n",
       "      <td>18.060606</td>\n",
       "      <td>9.131313</td>\n",
       "    </tr>\n",
       "    <tr>\n",
       "      <th>std</th>\n",
       "      <td>400.042676</td>\n",
       "      <td>10.028202</td>\n",
       "      <td>6.677079</td>\n",
       "      <td>1.951695</td>\n",
       "      <td>1.817254</td>\n",
       "      <td>1.930668</td>\n",
       "    </tr>\n",
       "    <tr>\n",
       "      <th>min</th>\n",
       "      <td>400.000000</td>\n",
       "      <td>50.000000</td>\n",
       "      <td>59.000000</td>\n",
       "      <td>18.000000</td>\n",
       "      <td>15.000000</td>\n",
       "      <td>6.000000</td>\n",
       "    </tr>\n",
       "    <tr>\n",
       "      <th>25%</th>\n",
       "      <td>450.000000</td>\n",
       "      <td>60.000000</td>\n",
       "      <td>65.000000</td>\n",
       "      <td>19.500000</td>\n",
       "      <td>16.000000</td>\n",
       "      <td>7.000000</td>\n",
       "    </tr>\n",
       "    <tr>\n",
       "      <th>50%</th>\n",
       "      <td>1150.000000</td>\n",
       "      <td>70.000000</td>\n",
       "      <td>71.000000</td>\n",
       "      <td>21.000000</td>\n",
       "      <td>19.000000</td>\n",
       "      <td>9.000000</td>\n",
       "    </tr>\n",
       "    <tr>\n",
       "      <th>75%</th>\n",
       "      <td>1237.500000</td>\n",
       "      <td>77.000000</td>\n",
       "      <td>77.000000</td>\n",
       "      <td>23.000000</td>\n",
       "      <td>19.000000</td>\n",
       "      <td>11.000000</td>\n",
       "    </tr>\n",
       "    <tr>\n",
       "      <th>max</th>\n",
       "      <td>1300.000000</td>\n",
       "      <td>80.000000</td>\n",
       "      <td>80.000000</td>\n",
       "      <td>25.000000</td>\n",
       "      <td>22.000000</td>\n",
       "      <td>12.000000</td>\n",
       "    </tr>\n",
       "  </tbody>\n",
       "</table>\n",
       "</div>"
      ],
      "text/plain": [
       "       Rain Fall (mm)  Fertilizer  Nitrogen (N)  Phosphorus (P)  \\\n",
       "count       99.000000   99.000000     99.000000       99.000000   \n",
       "mean       849.797980   67.808081     70.737374       21.131313   \n",
       "std        400.042676   10.028202      6.677079        1.951695   \n",
       "min        400.000000   50.000000     59.000000       18.000000   \n",
       "25%        450.000000   60.000000     65.000000       19.500000   \n",
       "50%       1150.000000   70.000000     71.000000       21.000000   \n",
       "75%       1237.500000   77.000000     77.000000       23.000000   \n",
       "max       1300.000000   80.000000     80.000000       25.000000   \n",
       "\n",
       "       Potassium (K)  Yeild (Q/acre)  \n",
       "count      99.000000       99.000000  \n",
       "mean       18.060606        9.131313  \n",
       "std         1.817254        1.930668  \n",
       "min        15.000000        6.000000  \n",
       "25%        16.000000        7.000000  \n",
       "50%        19.000000        9.000000  \n",
       "75%        19.000000       11.000000  \n",
       "max        22.000000       12.000000  "
      ]
     },
     "execution_count": 7,
     "metadata": {},
     "output_type": "execute_result"
    }
   ],
   "source": [
    "df.describe()"
   ]
  },
  {
   "cell_type": "code",
   "execution_count": 8,
   "id": "7188204e-95a5-4331-ac38-4ba10dc23f09",
   "metadata": {},
   "outputs": [
    {
     "data": {
      "text/html": [
       "<div>\n",
       "<style scoped>\n",
       "    .dataframe tbody tr th:only-of-type {\n",
       "        vertical-align: middle;\n",
       "    }\n",
       "\n",
       "    .dataframe tbody tr th {\n",
       "        vertical-align: top;\n",
       "    }\n",
       "\n",
       "    .dataframe thead th {\n",
       "        text-align: right;\n",
       "    }\n",
       "</style>\n",
       "<table border=\"1\" class=\"dataframe\">\n",
       "  <thead>\n",
       "    <tr style=\"text-align: right;\">\n",
       "      <th></th>\n",
       "      <th>Rain Fall (mm)</th>\n",
       "      <th>Fertilizer</th>\n",
       "      <th>Temperatue</th>\n",
       "      <th>Nitrogen (N)</th>\n",
       "      <th>Phosphorus (P)</th>\n",
       "      <th>Potassium (K)</th>\n",
       "      <th>Yeild (Q/acre)</th>\n",
       "    </tr>\n",
       "  </thead>\n",
       "  <tbody>\n",
       "    <tr>\n",
       "      <th>0</th>\n",
       "      <td>False</td>\n",
       "      <td>False</td>\n",
       "      <td>False</td>\n",
       "      <td>False</td>\n",
       "      <td>False</td>\n",
       "      <td>False</td>\n",
       "      <td>False</td>\n",
       "    </tr>\n",
       "    <tr>\n",
       "      <th>1</th>\n",
       "      <td>False</td>\n",
       "      <td>False</td>\n",
       "      <td>False</td>\n",
       "      <td>False</td>\n",
       "      <td>False</td>\n",
       "      <td>False</td>\n",
       "      <td>False</td>\n",
       "    </tr>\n",
       "    <tr>\n",
       "      <th>2</th>\n",
       "      <td>False</td>\n",
       "      <td>False</td>\n",
       "      <td>False</td>\n",
       "      <td>False</td>\n",
       "      <td>False</td>\n",
       "      <td>False</td>\n",
       "      <td>False</td>\n",
       "    </tr>\n",
       "    <tr>\n",
       "      <th>3</th>\n",
       "      <td>False</td>\n",
       "      <td>False</td>\n",
       "      <td>False</td>\n",
       "      <td>False</td>\n",
       "      <td>False</td>\n",
       "      <td>False</td>\n",
       "      <td>False</td>\n",
       "    </tr>\n",
       "    <tr>\n",
       "      <th>4</th>\n",
       "      <td>False</td>\n",
       "      <td>False</td>\n",
       "      <td>False</td>\n",
       "      <td>False</td>\n",
       "      <td>False</td>\n",
       "      <td>False</td>\n",
       "      <td>False</td>\n",
       "    </tr>\n",
       "    <tr>\n",
       "      <th>...</th>\n",
       "      <td>...</td>\n",
       "      <td>...</td>\n",
       "      <td>...</td>\n",
       "      <td>...</td>\n",
       "      <td>...</td>\n",
       "      <td>...</td>\n",
       "      <td>...</td>\n",
       "    </tr>\n",
       "    <tr>\n",
       "      <th>104</th>\n",
       "      <td>True</td>\n",
       "      <td>True</td>\n",
       "      <td>True</td>\n",
       "      <td>True</td>\n",
       "      <td>True</td>\n",
       "      <td>True</td>\n",
       "      <td>True</td>\n",
       "    </tr>\n",
       "    <tr>\n",
       "      <th>105</th>\n",
       "      <td>True</td>\n",
       "      <td>True</td>\n",
       "      <td>True</td>\n",
       "      <td>True</td>\n",
       "      <td>True</td>\n",
       "      <td>True</td>\n",
       "      <td>True</td>\n",
       "    </tr>\n",
       "    <tr>\n",
       "      <th>106</th>\n",
       "      <td>True</td>\n",
       "      <td>True</td>\n",
       "      <td>True</td>\n",
       "      <td>True</td>\n",
       "      <td>True</td>\n",
       "      <td>True</td>\n",
       "      <td>True</td>\n",
       "    </tr>\n",
       "    <tr>\n",
       "      <th>107</th>\n",
       "      <td>True</td>\n",
       "      <td>True</td>\n",
       "      <td>True</td>\n",
       "      <td>True</td>\n",
       "      <td>True</td>\n",
       "      <td>True</td>\n",
       "      <td>True</td>\n",
       "    </tr>\n",
       "    <tr>\n",
       "      <th>108</th>\n",
       "      <td>True</td>\n",
       "      <td>True</td>\n",
       "      <td>False</td>\n",
       "      <td>True</td>\n",
       "      <td>True</td>\n",
       "      <td>True</td>\n",
       "      <td>True</td>\n",
       "    </tr>\n",
       "  </tbody>\n",
       "</table>\n",
       "<p>109 rows × 7 columns</p>\n",
       "</div>"
      ],
      "text/plain": [
       "     Rain Fall (mm)  Fertilizer  Temperatue  Nitrogen (N)  Phosphorus (P)  \\\n",
       "0             False       False       False         False           False   \n",
       "1             False       False       False         False           False   \n",
       "2             False       False       False         False           False   \n",
       "3             False       False       False         False           False   \n",
       "4             False       False       False         False           False   \n",
       "..              ...         ...         ...           ...             ...   \n",
       "104            True        True        True          True            True   \n",
       "105            True        True        True          True            True   \n",
       "106            True        True        True          True            True   \n",
       "107            True        True        True          True            True   \n",
       "108            True        True       False          True            True   \n",
       "\n",
       "     Potassium (K)  Yeild (Q/acre)  \n",
       "0            False           False  \n",
       "1            False           False  \n",
       "2            False           False  \n",
       "3            False           False  \n",
       "4            False           False  \n",
       "..             ...             ...  \n",
       "104           True            True  \n",
       "105           True            True  \n",
       "106           True            True  \n",
       "107           True            True  \n",
       "108           True            True  \n",
       "\n",
       "[109 rows x 7 columns]"
      ]
     },
     "execution_count": 8,
     "metadata": {},
     "output_type": "execute_result"
    }
   ],
   "source": [
    "df.isnull()"
   ]
  },
  {
   "cell_type": "code",
   "execution_count": 9,
   "id": "01e0850d-7dd3-4faf-8536-422ef68893b4",
   "metadata": {},
   "outputs": [
    {
     "name": "stdout",
     "output_type": "stream",
     "text": [
      "<class 'pandas.core.frame.DataFrame'>\n",
      "RangeIndex: 109 entries, 0 to 108\n",
      "Data columns (total 7 columns):\n",
      " #   Column          Non-Null Count  Dtype  \n",
      "---  ------          --------------  -----  \n",
      " 0   Rain Fall (mm)  99 non-null     float64\n",
      " 1   Fertilizer      99 non-null     float64\n",
      " 2   Temperatue      100 non-null    object \n",
      " 3   Nitrogen (N)    99 non-null     float64\n",
      " 4   Phosphorus (P)  99 non-null     float64\n",
      " 5   Potassium (K)   99 non-null     float64\n",
      " 6   Yeild (Q/acre)  99 non-null     float64\n",
      "dtypes: float64(6), object(1)\n",
      "memory usage: 6.1+ KB\n"
     ]
    }
   ],
   "source": [
    "df.info()"
   ]
  },
  {
   "cell_type": "code",
   "execution_count": 10,
   "id": "67d549e3-4d6c-4292-ab74-b12ad779c6f9",
   "metadata": {},
   "outputs": [
    {
     "data": {
      "text/html": [
       "<div>\n",
       "<style scoped>\n",
       "    .dataframe tbody tr th:only-of-type {\n",
       "        vertical-align: middle;\n",
       "    }\n",
       "\n",
       "    .dataframe tbody tr th {\n",
       "        vertical-align: top;\n",
       "    }\n",
       "\n",
       "    .dataframe thead th {\n",
       "        text-align: right;\n",
       "    }\n",
       "</style>\n",
       "<table border=\"1\" class=\"dataframe\">\n",
       "  <thead>\n",
       "    <tr style=\"text-align: right;\">\n",
       "      <th></th>\n",
       "      <th>variable</th>\n",
       "      <th>value</th>\n",
       "    </tr>\n",
       "  </thead>\n",
       "  <tbody>\n",
       "    <tr>\n",
       "      <th>0</th>\n",
       "      <td>Rain Fall (mm)</td>\n",
       "      <td>1230.0</td>\n",
       "    </tr>\n",
       "    <tr>\n",
       "      <th>1</th>\n",
       "      <td>Rain Fall (mm)</td>\n",
       "      <td>480.0</td>\n",
       "    </tr>\n",
       "    <tr>\n",
       "      <th>2</th>\n",
       "      <td>Rain Fall (mm)</td>\n",
       "      <td>1250.0</td>\n",
       "    </tr>\n",
       "    <tr>\n",
       "      <th>3</th>\n",
       "      <td>Rain Fall (mm)</td>\n",
       "      <td>450.0</td>\n",
       "    </tr>\n",
       "    <tr>\n",
       "      <th>4</th>\n",
       "      <td>Rain Fall (mm)</td>\n",
       "      <td>1200.0</td>\n",
       "    </tr>\n",
       "    <tr>\n",
       "      <th>...</th>\n",
       "      <td>...</td>\n",
       "      <td>...</td>\n",
       "    </tr>\n",
       "    <tr>\n",
       "      <th>758</th>\n",
       "      <td>Yeild (Q/acre)</td>\n",
       "      <td>NaN</td>\n",
       "    </tr>\n",
       "    <tr>\n",
       "      <th>759</th>\n",
       "      <td>Yeild (Q/acre)</td>\n",
       "      <td>NaN</td>\n",
       "    </tr>\n",
       "    <tr>\n",
       "      <th>760</th>\n",
       "      <td>Yeild (Q/acre)</td>\n",
       "      <td>NaN</td>\n",
       "    </tr>\n",
       "    <tr>\n",
       "      <th>761</th>\n",
       "      <td>Yeild (Q/acre)</td>\n",
       "      <td>NaN</td>\n",
       "    </tr>\n",
       "    <tr>\n",
       "      <th>762</th>\n",
       "      <td>Yeild (Q/acre)</td>\n",
       "      <td>NaN</td>\n",
       "    </tr>\n",
       "  </tbody>\n",
       "</table>\n",
       "<p>763 rows × 2 columns</p>\n",
       "</div>"
      ],
      "text/plain": [
       "           variable   value\n",
       "0    Rain Fall (mm)  1230.0\n",
       "1    Rain Fall (mm)   480.0\n",
       "2    Rain Fall (mm)  1250.0\n",
       "3    Rain Fall (mm)   450.0\n",
       "4    Rain Fall (mm)  1200.0\n",
       "..              ...     ...\n",
       "758  Yeild (Q/acre)     NaN\n",
       "759  Yeild (Q/acre)     NaN\n",
       "760  Yeild (Q/acre)     NaN\n",
       "761  Yeild (Q/acre)     NaN\n",
       "762  Yeild (Q/acre)     NaN\n",
       "\n",
       "[763 rows x 2 columns]"
      ]
     },
     "execution_count": 10,
     "metadata": {},
     "output_type": "execute_result"
    }
   ],
   "source": [
    "pd.melt(df)"
   ]
  },
  {
   "cell_type": "code",
   "execution_count": 11,
   "id": "b8670ce6-cfdb-4810-ba36-a7855e34a0fc",
   "metadata": {},
   "outputs": [
    {
     "data": {
      "text/html": [
       "<div>\n",
       "<style scoped>\n",
       "    .dataframe tbody tr th:only-of-type {\n",
       "        vertical-align: middle;\n",
       "    }\n",
       "\n",
       "    .dataframe tbody tr th {\n",
       "        vertical-align: top;\n",
       "    }\n",
       "\n",
       "    .dataframe thead th {\n",
       "        text-align: right;\n",
       "    }\n",
       "</style>\n",
       "<table border=\"1\" class=\"dataframe\">\n",
       "  <thead>\n",
       "    <tr style=\"text-align: right;\">\n",
       "      <th></th>\n",
       "      <th>Rain Fall (mm)</th>\n",
       "      <th>Fertilizer</th>\n",
       "      <th>Temperatue</th>\n",
       "      <th>Nitrogen (N)</th>\n",
       "      <th>Phosphorus (P)</th>\n",
       "      <th>Potassium (K)</th>\n",
       "      <th>Yeild (Q/acre)</th>\n",
       "    </tr>\n",
       "  </thead>\n",
       "  <tbody>\n",
       "    <tr>\n",
       "      <th>0</th>\n",
       "      <td>1230.0</td>\n",
       "      <td>80.0</td>\n",
       "      <td>28</td>\n",
       "      <td>80.0</td>\n",
       "      <td>24.0</td>\n",
       "      <td>20.0</td>\n",
       "      <td>12.0</td>\n",
       "    </tr>\n",
       "    <tr>\n",
       "      <th>1</th>\n",
       "      <td>480.0</td>\n",
       "      <td>60.0</td>\n",
       "      <td>36</td>\n",
       "      <td>70.0</td>\n",
       "      <td>20.0</td>\n",
       "      <td>18.0</td>\n",
       "      <td>8.0</td>\n",
       "    </tr>\n",
       "    <tr>\n",
       "      <th>2</th>\n",
       "      <td>1250.0</td>\n",
       "      <td>75.0</td>\n",
       "      <td>29</td>\n",
       "      <td>78.0</td>\n",
       "      <td>22.0</td>\n",
       "      <td>19.0</td>\n",
       "      <td>11.0</td>\n",
       "    </tr>\n",
       "    <tr>\n",
       "      <th>3</th>\n",
       "      <td>450.0</td>\n",
       "      <td>65.0</td>\n",
       "      <td>35</td>\n",
       "      <td>70.0</td>\n",
       "      <td>19.0</td>\n",
       "      <td>18.0</td>\n",
       "      <td>9.0</td>\n",
       "    </tr>\n",
       "    <tr>\n",
       "      <th>4</th>\n",
       "      <td>1200.0</td>\n",
       "      <td>80.0</td>\n",
       "      <td>27</td>\n",
       "      <td>79.0</td>\n",
       "      <td>22.0</td>\n",
       "      <td>19.0</td>\n",
       "      <td>11.0</td>\n",
       "    </tr>\n",
       "    <tr>\n",
       "      <th>...</th>\n",
       "      <td>...</td>\n",
       "      <td>...</td>\n",
       "      <td>...</td>\n",
       "      <td>...</td>\n",
       "      <td>...</td>\n",
       "      <td>...</td>\n",
       "      <td>...</td>\n",
       "    </tr>\n",
       "    <tr>\n",
       "      <th>104</th>\n",
       "      <td>NaN</td>\n",
       "      <td>NaN</td>\n",
       "      <td>NaN</td>\n",
       "      <td>NaN</td>\n",
       "      <td>NaN</td>\n",
       "      <td>NaN</td>\n",
       "      <td>NaN</td>\n",
       "    </tr>\n",
       "    <tr>\n",
       "      <th>105</th>\n",
       "      <td>NaN</td>\n",
       "      <td>NaN</td>\n",
       "      <td>NaN</td>\n",
       "      <td>NaN</td>\n",
       "      <td>NaN</td>\n",
       "      <td>NaN</td>\n",
       "      <td>NaN</td>\n",
       "    </tr>\n",
       "    <tr>\n",
       "      <th>106</th>\n",
       "      <td>NaN</td>\n",
       "      <td>NaN</td>\n",
       "      <td>NaN</td>\n",
       "      <td>NaN</td>\n",
       "      <td>NaN</td>\n",
       "      <td>NaN</td>\n",
       "      <td>NaN</td>\n",
       "    </tr>\n",
       "    <tr>\n",
       "      <th>107</th>\n",
       "      <td>NaN</td>\n",
       "      <td>NaN</td>\n",
       "      <td>NaN</td>\n",
       "      <td>NaN</td>\n",
       "      <td>NaN</td>\n",
       "      <td>NaN</td>\n",
       "      <td>NaN</td>\n",
       "    </tr>\n",
       "    <tr>\n",
       "      <th>108</th>\n",
       "      <td>NaN</td>\n",
       "      <td>NaN</td>\n",
       "      <td>:</td>\n",
       "      <td>NaN</td>\n",
       "      <td>NaN</td>\n",
       "      <td>NaN</td>\n",
       "      <td>NaN</td>\n",
       "    </tr>\n",
       "  </tbody>\n",
       "</table>\n",
       "<p>109 rows × 7 columns</p>\n",
       "</div>"
      ],
      "text/plain": [
       "     Rain Fall (mm)  Fertilizer Temperatue  Nitrogen (N)  Phosphorus (P)  \\\n",
       "0            1230.0        80.0         28          80.0            24.0   \n",
       "1             480.0        60.0         36          70.0            20.0   \n",
       "2            1250.0        75.0         29          78.0            22.0   \n",
       "3             450.0        65.0         35          70.0            19.0   \n",
       "4            1200.0        80.0         27          79.0            22.0   \n",
       "..              ...         ...        ...           ...             ...   \n",
       "104             NaN         NaN        NaN           NaN             NaN   \n",
       "105             NaN         NaN        NaN           NaN             NaN   \n",
       "106             NaN         NaN        NaN           NaN             NaN   \n",
       "107             NaN         NaN        NaN           NaN             NaN   \n",
       "108             NaN         NaN          :           NaN             NaN   \n",
       "\n",
       "     Potassium (K)  Yeild (Q/acre)  \n",
       "0             20.0            12.0  \n",
       "1             18.0             8.0  \n",
       "2             19.0            11.0  \n",
       "3             18.0             9.0  \n",
       "4             19.0            11.0  \n",
       "..             ...             ...  \n",
       "104            NaN             NaN  \n",
       "105            NaN             NaN  \n",
       "106            NaN             NaN  \n",
       "107            NaN             NaN  \n",
       "108            NaN             NaN  \n",
       "\n",
       "[109 rows x 7 columns]"
      ]
     },
     "execution_count": 11,
     "metadata": {},
     "output_type": "execute_result"
    }
   ],
   "source": [
    "df.sort_index()"
   ]
  },
  {
   "cell_type": "code",
   "execution_count": 12,
   "id": "05514c93-d246-49ba-9e8a-78a457eb82e2",
   "metadata": {},
   "outputs": [
    {
     "data": {
      "text/html": [
       "<div>\n",
       "<style scoped>\n",
       "    .dataframe tbody tr th:only-of-type {\n",
       "        vertical-align: middle;\n",
       "    }\n",
       "\n",
       "    .dataframe tbody tr th {\n",
       "        vertical-align: top;\n",
       "    }\n",
       "\n",
       "    .dataframe thead th {\n",
       "        text-align: right;\n",
       "    }\n",
       "</style>\n",
       "<table border=\"1\" class=\"dataframe\">\n",
       "  <thead>\n",
       "    <tr style=\"text-align: right;\">\n",
       "      <th></th>\n",
       "      <th>Rain Fall (mm)</th>\n",
       "      <th>Fertilizer</th>\n",
       "      <th>Temperatue</th>\n",
       "      <th>Nitrogen (N)</th>\n",
       "      <th>Phosphorus (P)</th>\n",
       "      <th>Potassium (K)</th>\n",
       "      <th>Yeild (Q/acre)</th>\n",
       "    </tr>\n",
       "  </thead>\n",
       "  <tbody>\n",
       "    <tr>\n",
       "      <th>49</th>\n",
       "      <td>450.0</td>\n",
       "      <td>50.0</td>\n",
       "      <td>37</td>\n",
       "      <td>60.0</td>\n",
       "      <td>18.0</td>\n",
       "      <td>15.0</td>\n",
       "      <td>6.0</td>\n",
       "    </tr>\n",
       "    <tr>\n",
       "      <th>9</th>\n",
       "      <td>400.0</td>\n",
       "      <td>50.0</td>\n",
       "      <td>39</td>\n",
       "      <td>60.0</td>\n",
       "      <td>18.0</td>\n",
       "      <td>15.0</td>\n",
       "      <td>6.0</td>\n",
       "    </tr>\n",
       "    <tr>\n",
       "      <th>6</th>\n",
       "      <td>1275.0</td>\n",
       "      <td>71.0</td>\n",
       "      <td>28</td>\n",
       "      <td>77.0</td>\n",
       "      <td>21.0</td>\n",
       "      <td>20.0</td>\n",
       "      <td>11.0</td>\n",
       "    </tr>\n",
       "    <tr>\n",
       "      <th>46</th>\n",
       "      <td>1275.0</td>\n",
       "      <td>76.0</td>\n",
       "      <td>26</td>\n",
       "      <td>75.0</td>\n",
       "      <td>24.0</td>\n",
       "      <td>19.0</td>\n",
       "      <td>11.0</td>\n",
       "    </tr>\n",
       "    <tr>\n",
       "      <th>65</th>\n",
       "      <td>410.0</td>\n",
       "      <td>55.0</td>\n",
       "      <td>38</td>\n",
       "      <td>68.0</td>\n",
       "      <td>20.0</td>\n",
       "      <td>16.0</td>\n",
       "      <td>7.0</td>\n",
       "    </tr>\n",
       "  </tbody>\n",
       "</table>\n",
       "</div>"
      ],
      "text/plain": [
       "    Rain Fall (mm)  Fertilizer Temperatue  Nitrogen (N)  Phosphorus (P)  \\\n",
       "49           450.0        50.0         37          60.0            18.0   \n",
       "9            400.0        50.0         39          60.0            18.0   \n",
       "6           1275.0        71.0         28          77.0            21.0   \n",
       "46          1275.0        76.0         26          75.0            24.0   \n",
       "65           410.0        55.0         38          68.0            20.0   \n",
       "\n",
       "    Potassium (K)  Yeild (Q/acre)  \n",
       "49           15.0             6.0  \n",
       "9            15.0             6.0  \n",
       "6            20.0            11.0  \n",
       "46           19.0            11.0  \n",
       "65           16.0             7.0  "
      ]
     },
     "execution_count": 12,
     "metadata": {},
     "output_type": "execute_result"
    }
   ],
   "source": [
    "df.sample(n=5)"
   ]
  },
  {
   "cell_type": "code",
   "execution_count": 13,
   "id": "66caf0c5-072f-42fb-97a3-b732090f0e4d",
   "metadata": {},
   "outputs": [
    {
     "data": {
      "text/html": [
       "<div>\n",
       "<style scoped>\n",
       "    .dataframe tbody tr th:only-of-type {\n",
       "        vertical-align: middle;\n",
       "    }\n",
       "\n",
       "    .dataframe tbody tr th {\n",
       "        vertical-align: top;\n",
       "    }\n",
       "\n",
       "    .dataframe thead th {\n",
       "        text-align: right;\n",
       "    }\n",
       "</style>\n",
       "<table border=\"1\" class=\"dataframe\">\n",
       "  <thead>\n",
       "    <tr style=\"text-align: right;\">\n",
       "      <th></th>\n",
       "      <th>Rain Fall (mm)</th>\n",
       "      <th>Fertilizer</th>\n",
       "      <th>Temperatue</th>\n",
       "      <th>Nitrogen (N)</th>\n",
       "      <th>Phosphorus (P)</th>\n",
       "      <th>Potassium (K)</th>\n",
       "      <th>Yeild (Q/acre)</th>\n",
       "    </tr>\n",
       "  </thead>\n",
       "  <tbody>\n",
       "    <tr>\n",
       "      <th>0</th>\n",
       "      <td>1230.0</td>\n",
       "      <td>80.0</td>\n",
       "      <td>28</td>\n",
       "      <td>80.0</td>\n",
       "      <td>24.0</td>\n",
       "      <td>20.0</td>\n",
       "      <td>12.0</td>\n",
       "    </tr>\n",
       "    <tr>\n",
       "      <th>1</th>\n",
       "      <td>480.0</td>\n",
       "      <td>60.0</td>\n",
       "      <td>36</td>\n",
       "      <td>70.0</td>\n",
       "      <td>20.0</td>\n",
       "      <td>18.0</td>\n",
       "      <td>8.0</td>\n",
       "    </tr>\n",
       "    <tr>\n",
       "      <th>2</th>\n",
       "      <td>1250.0</td>\n",
       "      <td>75.0</td>\n",
       "      <td>29</td>\n",
       "      <td>78.0</td>\n",
       "      <td>22.0</td>\n",
       "      <td>19.0</td>\n",
       "      <td>11.0</td>\n",
       "    </tr>\n",
       "    <tr>\n",
       "      <th>3</th>\n",
       "      <td>450.0</td>\n",
       "      <td>65.0</td>\n",
       "      <td>35</td>\n",
       "      <td>70.0</td>\n",
       "      <td>19.0</td>\n",
       "      <td>18.0</td>\n",
       "      <td>9.0</td>\n",
       "    </tr>\n",
       "    <tr>\n",
       "      <th>4</th>\n",
       "      <td>1200.0</td>\n",
       "      <td>80.0</td>\n",
       "      <td>27</td>\n",
       "      <td>79.0</td>\n",
       "      <td>22.0</td>\n",
       "      <td>19.0</td>\n",
       "      <td>11.0</td>\n",
       "    </tr>\n",
       "    <tr>\n",
       "      <th>...</th>\n",
       "      <td>...</td>\n",
       "      <td>...</td>\n",
       "      <td>...</td>\n",
       "      <td>...</td>\n",
       "      <td>...</td>\n",
       "      <td>...</td>\n",
       "      <td>...</td>\n",
       "    </tr>\n",
       "    <tr>\n",
       "      <th>94</th>\n",
       "      <td>1250.0</td>\n",
       "      <td>77.0</td>\n",
       "      <td>28</td>\n",
       "      <td>78.0</td>\n",
       "      <td>23.0</td>\n",
       "      <td>20.0</td>\n",
       "      <td>9.0</td>\n",
       "    </tr>\n",
       "    <tr>\n",
       "      <th>95</th>\n",
       "      <td>425.0</td>\n",
       "      <td>60.0</td>\n",
       "      <td>39</td>\n",
       "      <td>65.0</td>\n",
       "      <td>19.0</td>\n",
       "      <td>17.0</td>\n",
       "      <td>7.0</td>\n",
       "    </tr>\n",
       "    <tr>\n",
       "      <th>96</th>\n",
       "      <td>1220.0</td>\n",
       "      <td>79.0</td>\n",
       "      <td>28</td>\n",
       "      <td>77.0</td>\n",
       "      <td>23.0</td>\n",
       "      <td>21.0</td>\n",
       "      <td>11.0</td>\n",
       "    </tr>\n",
       "    <tr>\n",
       "      <th>97</th>\n",
       "      <td>480.0</td>\n",
       "      <td>65.0</td>\n",
       "      <td>36</td>\n",
       "      <td>68.0</td>\n",
       "      <td>21.0</td>\n",
       "      <td>16.0</td>\n",
       "      <td>7.0</td>\n",
       "    </tr>\n",
       "    <tr>\n",
       "      <th>98</th>\n",
       "      <td>1230.0</td>\n",
       "      <td>80.0</td>\n",
       "      <td>28</td>\n",
       "      <td>80.0</td>\n",
       "      <td>24.0</td>\n",
       "      <td>20.0</td>\n",
       "      <td>12.0</td>\n",
       "    </tr>\n",
       "  </tbody>\n",
       "</table>\n",
       "<p>99 rows × 7 columns</p>\n",
       "</div>"
      ],
      "text/plain": [
       "    Rain Fall (mm)  Fertilizer Temperatue  Nitrogen (N)  Phosphorus (P)  \\\n",
       "0           1230.0        80.0         28          80.0            24.0   \n",
       "1            480.0        60.0         36          70.0            20.0   \n",
       "2           1250.0        75.0         29          78.0            22.0   \n",
       "3            450.0        65.0         35          70.0            19.0   \n",
       "4           1200.0        80.0         27          79.0            22.0   \n",
       "..             ...         ...        ...           ...             ...   \n",
       "94          1250.0        77.0         28          78.0            23.0   \n",
       "95           425.0        60.0         39          65.0            19.0   \n",
       "96          1220.0        79.0         28          77.0            23.0   \n",
       "97           480.0        65.0         36          68.0            21.0   \n",
       "98          1230.0        80.0         28          80.0            24.0   \n",
       "\n",
       "    Potassium (K)  Yeild (Q/acre)  \n",
       "0            20.0            12.0  \n",
       "1            18.0             8.0  \n",
       "2            19.0            11.0  \n",
       "3            18.0             9.0  \n",
       "4            19.0            11.0  \n",
       "..            ...             ...  \n",
       "94           20.0             9.0  \n",
       "95           17.0             7.0  \n",
       "96           21.0            11.0  \n",
       "97           16.0             7.0  \n",
       "98           20.0            12.0  \n",
       "\n",
       "[99 rows x 7 columns]"
      ]
     },
     "execution_count": 13,
     "metadata": {},
     "output_type": "execute_result"
    }
   ],
   "source": [
    "df.dropna()"
   ]
  },
  {
   "cell_type": "code",
   "execution_count": 14,
   "id": "6803b3ef-4b3a-47ac-b61e-53ea7f2393c1",
   "metadata": {},
   "outputs": [
    {
     "data": {
      "text/plain": [
       "Rain Fall (mm)     99\n",
       "Fertilizer         99\n",
       "Temperatue        100\n",
       "Nitrogen (N)       99\n",
       "Phosphorus (P)     99\n",
       "Potassium (K)      99\n",
       "Yeild (Q/acre)     99\n",
       "dtype: int64"
      ]
     },
     "execution_count": 14,
     "metadata": {},
     "output_type": "execute_result"
    }
   ],
   "source": [
    "df.count()"
   ]
  },
  {
   "cell_type": "code",
   "execution_count": 15,
   "id": "10abe5a1-e15d-4352-935c-66a89b1df8ae",
   "metadata": {},
   "outputs": [],
   "source": [
    "data = np.genfromtxt('crop.csv',delimiter=',') "
   ]
  },
  {
   "cell_type": "code",
   "execution_count": 16,
   "id": "4a6559ad-3e74-4f15-8490-ccc9e45a624d",
   "metadata": {},
   "outputs": [
    {
     "data": {
      "text/plain": [
       "array([1, 2, 3])"
      ]
     },
     "execution_count": 16,
     "metadata": {},
     "output_type": "execute_result"
    }
   ],
   "source": [
    "np.array([1,2,3])"
   ]
  },
  {
   "cell_type": "code",
   "execution_count": 17,
   "id": "a8868eba-2f08-4eab-aed1-e9fd7e730a5b",
   "metadata": {},
   "outputs": [
    {
     "data": {
      "text/plain": [
       "array([0., 0., 0.])"
      ]
     },
     "execution_count": 17,
     "metadata": {},
     "output_type": "execute_result"
    }
   ],
   "source": [
    "np.zeros(3)"
   ]
  },
  {
   "cell_type": "code",
   "execution_count": 18,
   "id": "b41ca947-a131-4e4a-bc2e-c7a472601296",
   "metadata": {},
   "outputs": [
    {
     "data": {
      "text/plain": [
       "array([[0., 0., 0.],\n",
       "       [0., 0., 0.],\n",
       "       [0., 0., 0.]])"
      ]
     },
     "execution_count": 18,
     "metadata": {},
     "output_type": "execute_result"
    }
   ],
   "source": [
    "np.zeros((3, 3))"
   ]
  },
  {
   "cell_type": "code",
   "execution_count": 19,
   "id": "47881867-6851-40fa-98d9-e41321201744",
   "metadata": {},
   "outputs": [
    {
     "data": {
      "text/plain": [
       "array([0, 2, 4, 6, 8])"
      ]
     },
     "execution_count": 19,
     "metadata": {},
     "output_type": "execute_result"
    }
   ],
   "source": [
    "np.arange(0, 10, 2)"
   ]
  },
  {
   "cell_type": "code",
   "execution_count": 20,
   "id": "10ce37ba-46d2-40c1-900e-324c4e9061b8",
   "metadata": {},
   "outputs": [
    {
     "name": "stdout",
     "output_type": "stream",
     "text": [
      "[[  nan   nan   nan   nan   nan   nan   nan]\n",
      " [1230.   80.   28.   80.   24.   20.   12.]\n",
      " [ 480.   60.   36.   70.   20.   18.    8.]\n",
      " [1250.   75.   29.   78.   22.   19.   11.]\n",
      " [ 450.   65.   35.   70.   19.   18.    9.]\n",
      " [1200.   80.   27.   79.   22.   19.   11.]\n",
      " [ 500.   70.   34.   74.   22.   16.   10.]\n",
      " [1275.   71.   28.   77.   21.   20.   11.]\n",
      " [ 425.   65.   37.   67.   18.   15.    7.]\n",
      " [1200.   77.   27.   78.   23.   20.   12.]\n",
      " [ 400.   50.   39.   60.   18.   15.    6.]\n",
      " [1280.   80.   26.   80.   24.   20.   12.]\n",
      " [ 415.   55.   38.   65.   19.   17.    8.]\n",
      " [1225.   79.   29.   79.   23.   20.   11.]\n",
      " [ 425.   50.   37.   65.   18.   19.    9.]\n",
      " [1250.   70.   24.   70.   22.   18.   11.]\n",
      " [ 400.   60.   39.   60.   18.   15.    6.]\n",
      " [1300.   80.   28.   80.   24.   20.   12.]\n",
      " [ 410.   55.   36.   65.   21.   16.    7.]\n",
      " [1150.   77.   28.   76.   23.   20.   11.]\n",
      " [1200.   78.   27.   78.   23.   19.   12.]\n",
      " [ 410.   50.   37.   59.   19.   15.    6.]\n",
      " [1280.   76.   26.   75.   24.   19.   11.]\n",
      " [ 425.   55.   38.   65.   19.   17.    7.]\n",
      " [1225.   73.   29.   73.   23.   20.   10.]\n",
      " [ 450.   50.   37.   65.   18.   19.    9.]\n",
      " [1250.   70.   24.   70.   22.   18.   10.]\n",
      " [ 400.   60.   39.   60.   18.   15.    6.]\n",
      " [1250.   80.   28.   80.   24.   20.   12.]\n",
      " [ 405.   55.   36.   60.   21.   16.    7.]\n",
      " [1200.   72.   29.   73.   21.   19.   10.]\n",
      " [1150.   80.   26.   75.   21.   20.   11.]\n",
      " [ 475.   55.   39.   61.   18.   16.    6.]\n",
      " [1275.   76.   26.   75.   24.   19.   11.]\n",
      " [ 450.   55.   38.   65.   19.   17.    7.]\n",
      " [1200.   73.   29.   73.   23.   20.   10.]\n",
      " [ 500.   50.   37.   65.   18.   19.    9.]\n",
      " [1300.   70.   24.   70.   22.   18.   10.]\n",
      " [ 425.   60.   39.   60.   18.   15.    6.]\n",
      " [1250.   75.   26.   75.   22.   19.   12.]\n",
      " [ 440.   58.   37.   66.   22.   18.    8.]\n",
      " [1275.   78.   28.   77.   23.   21.   11.]\n",
      " [ 405.   55.   36.   60.   21.   16.    7.]\n",
      " [1175.   78.   28.   75.   23.   22.   11.]\n",
      " [ 410.   60.   39.   65.   18.   15.    6.]\n",
      " [1250.   80.   26.   78.   23.   19.   11.]\n",
      " [ 460.   55.   38.   61.   20.   18.    7.]\n",
      " [1275.   76.   26.   75.   24.   19.   11.]\n",
      " [ 445.   60.   38.   68.   22.   18.    8.]\n",
      " [1220.   77.   29.   75.   22.   19.   10.]\n",
      " [ 450.   50.   37.   60.   18.   15.    6.]\n",
      " [1225.   79.   24.   79.   22.   19.   11.]\n",
      " [ 430.   65.   39.   65.   19.   16.    6.]\n",
      " [1275.   77.   27.   78.   21.   20.   11.]\n",
      " [ 400.   52.   38.   64.   19.   15.    7.]\n",
      " [1245.   78.   27.   78.   22.   19.   10.]\n",
      " [ 455.   58.   37.   61.   21.   18.    8.]\n",
      " [1280.   73.   28.   75.   24.   19.   11.]\n",
      " [ 475.   62.   37.   68.   22.   18.    9.]\n",
      " [1300.   79.   28.   77.   23.   19.   10.]\n",
      " [ 425.   55.   36.   65.   19.   15.    7.]\n",
      " [1175.   77.   25.   75.   22.   19.   11.]\n",
      " [ 425.   70.   39.   70.   20.   16.    7.]\n",
      " [1200.   75.   27.   79.   21.   20.   11.]\n",
      " [ 450.   56.   40.   67.   18.   15.    7.]\n",
      " [1200.   75.   27.   76.   21.   19.   11.]\n",
      " [ 410.   55.   38.   68.   20.   16.    7.]\n",
      " [1250.   75.   27.   75.   23.   20.   11.]\n",
      " [ 475.   60.   37.   63.   20.   18.    7.]\n",
      " [1225.   75.   29.   77.   23.   19.   10.]\n",
      " [ 455.   60.   38.   65.   20.   16.    9.]\n",
      " [1245.   77.   27.   75.   22.   20.   10.]\n",
      " [ 450.   59.   40.   67.   18.   16.    8.]\n",
      " [1200.   79.   27.   77.   23.   20.   11.]\n",
      " [ 475.   72.   36.   71.   21.   17.    7.]\n",
      " [1275.   77.   28.   76.   22.   19.   10.]\n",
      " [ 475.   58.   39.   68.   19.   16.    8.]\n",
      " [1300.   80.   28.   80.   24.   20.   12.]\n",
      " [ 400.   50.   40.   60.   18.   15.    6.]\n",
      " [1175.   70.   28.   70.   22.   19.   10.]\n",
      " [ 445.   65.   39.   65.   21.   19.    8.]\n",
      " [1200.   77.   29.   76.   22.   19.   10.]\n",
      " [ 450.   65.   38.   60.   20.   16.    8.]\n",
      " [1225.   75.   28.   79.   21.   19.   10.]\n",
      " [ 450.   65.   39.   70.   20.   19.    9.]\n",
      " [1300.   76.   28.   77.   22.   20.    9.]\n",
      " [ 450.   70.   36.   72.   25.   18.    8.]\n",
      " [1250.   77.   28.   76.   22.   19.   10.]\n",
      " [ 475.   60.   39.   70.   20.   17.    8.]\n",
      " [1200.   75.   28.   77.   23.   19.   11.]\n",
      " [ 410.   52.   40.   62.   19.   16.    7.]\n",
      " [1225.   75.   28.   75.   23.   20.   11.]\n",
      " [ 460.   60.   39.   60.   20.   16.    7.]\n",
      " [1150.   78.   29.   77.   21.   18.    9.]\n",
      " [ 475.   65.   38.   60.   20.   16.    8.]\n",
      " [1250.   77.   28.   78.   23.   20.    9.]\n",
      " [ 425.   60.   39.   65.   19.   17.    7.]\n",
      " [1220.   79.   28.   77.   23.   21.   11.]\n",
      " [ 480.   65.   36.   68.   21.   16.    7.]\n",
      " [1230.   80.   28.   80.   24.   20.   12.]\n",
      " [  nan   nan   nan   nan   nan   nan   nan]\n",
      " [  nan   nan   nan   nan   nan   nan   nan]\n",
      " [  nan   nan   nan   nan   nan   nan   nan]\n",
      " [  nan   nan   nan   nan   nan   nan   nan]\n",
      " [  nan   nan   nan   nan   nan   nan   nan]\n",
      " [  nan   nan   nan   nan   nan   nan   nan]\n",
      " [  nan   nan   nan   nan   nan   nan   nan]\n",
      " [  nan   nan   nan   nan   nan   nan   nan]\n",
      " [  nan   nan   nan   nan   nan   nan   nan]\n",
      " [  nan   nan   nan   nan   nan   nan   nan]]\n"
     ]
    }
   ],
   "source": [
    "print(data)"
   ]
  },
  {
   "cell_type": "code",
   "execution_count": 21,
   "id": "8a42bde0-4617-49b9-8693-c875bf55fb6c",
   "metadata": {},
   "outputs": [
    {
     "data": {
      "text/plain": [
       "dtype('float64')"
      ]
     },
     "execution_count": 21,
     "metadata": {},
     "output_type": "execute_result"
    }
   ],
   "source": [
    "data.dtype"
   ]
  },
  {
   "cell_type": "code",
   "execution_count": 22,
   "id": "c777a314-1812-4f8a-9dd0-6822617fcaa2",
   "metadata": {},
   "outputs": [
    {
     "data": {
      "text/plain": [
       "(110, 7)"
      ]
     },
     "execution_count": 22,
     "metadata": {},
     "output_type": "execute_result"
    }
   ],
   "source": [
    "data.shape"
   ]
  },
  {
   "cell_type": "code",
   "execution_count": 23,
   "id": "9ad2ab85-0b68-4f60-8152-3294bac9a158",
   "metadata": {},
   "outputs": [
    {
     "data": {
      "text/plain": [
       "2"
      ]
     },
     "execution_count": 23,
     "metadata": {},
     "output_type": "execute_result"
    }
   ],
   "source": [
    "data.ndim"
   ]
  },
  {
   "cell_type": "code",
   "execution_count": 24,
   "id": "cd4d5e30-7723-408e-b2b1-1486ad7934fa",
   "metadata": {},
   "outputs": [
    {
     "data": {
      "text/plain": [
       "770"
      ]
     },
     "execution_count": 24,
     "metadata": {},
     "output_type": "execute_result"
    }
   ],
   "source": [
    "data.size"
   ]
  },
  {
   "cell_type": "code",
   "execution_count": 25,
   "id": "92e5b24a-9115-43e7-8e82-a9e938b5af3e",
   "metadata": {},
   "outputs": [
    {
     "data": {
      "text/plain": [
       "array([nan, nan, nan, nan, nan, nan, nan])"
      ]
     },
     "execution_count": 25,
     "metadata": {},
     "output_type": "execute_result"
    }
   ],
   "source": [
    "data[0]"
   ]
  },
  {
   "cell_type": "code",
   "execution_count": 26,
   "id": "e85ec7ee-84e0-45ac-a279-03c5a0a5fddd",
   "metadata": {},
   "outputs": [
    {
     "data": {
      "text/plain": [
       "array([[1230.,   80.,   28.,   80.,   24.,   20.,   12.],\n",
       "       [ 480.,   60.,   36.,   70.,   20.,   18.,    8.]])"
      ]
     },
     "execution_count": 26,
     "metadata": {},
     "output_type": "execute_result"
    }
   ],
   "source": [
    "data[1:3]"
   ]
  },
  {
   "cell_type": "code",
   "execution_count": 27,
   "id": "42f06099-cafd-4042-8d59-5d40a2cb9f9a",
   "metadata": {},
   "outputs": [
    {
     "data": {
      "text/plain": [
       "nan"
      ]
     },
     "execution_count": 27,
     "metadata": {},
     "output_type": "execute_result"
    }
   ],
   "source": [
    "np.sum(data)"
   ]
  },
  {
   "cell_type": "code",
   "execution_count": 28,
   "id": "84d6766d-f4f5-40a0-8f3d-91630d4b5ffd",
   "metadata": {},
   "outputs": [
    {
     "data": {
      "text/plain": [
       "nan"
      ]
     },
     "execution_count": 28,
     "metadata": {},
     "output_type": "execute_result"
    }
   ],
   "source": [
    "np.max(data)"
   ]
  },
  {
   "cell_type": "code",
   "execution_count": 29,
   "id": "9dbf9921-b472-44f2-8349-465ac451a38c",
   "metadata": {},
   "outputs": [
    {
     "data": {
      "text/plain": [
       "nan"
      ]
     },
     "execution_count": 29,
     "metadata": {},
     "output_type": "execute_result"
    }
   ],
   "source": [
    "np.min(data)"
   ]
  },
  {
   "cell_type": "code",
   "execution_count": 30,
   "id": "0777c0a5-7335-47b2-933d-3c3dd2e7de65",
   "metadata": {},
   "outputs": [
    {
     "data": {
      "text/plain": [
       "nan"
      ]
     },
     "execution_count": 30,
     "metadata": {},
     "output_type": "execute_result"
    }
   ],
   "source": [
    "np.std(data)"
   ]
  },
  {
   "cell_type": "code",
   "execution_count": 31,
   "id": "e0683853-3e8a-4d35-b4e0-e2b8f3e4de08",
   "metadata": {},
   "outputs": [
    {
     "data": {
      "text/plain": [
       "<Axes: ylabel='Frequency'>"
      ]
     },
     "execution_count": 31,
     "metadata": {},
     "output_type": "execute_result"
    },
    {
     "data": {
      "image/png": "[encoded data removed]",
      "text/plain": [
       "<Figure size 640x480 with 1 Axes>"
      ]
     },
     "metadata": {},
     "output_type": "display_data"
    }
   ],
   "source": [
    "df.plot.hist()"
   ]
  },
  {
   "cell_type": "code",
   "execution_count": 33,
   "id": "142ac504-4fa1-4522-9a08-1ee4b138b9b2",
   "metadata": {},
   "outputs": [
    {
     "data": {
      "image/png": "[encoded data removed]",
      "text/plain": [
       "<Figure size 640x480 with 1 Axes>"
      ]
     },
     "metadata": {},
     "output_type": "display_data"
    }
   ],
   "source": [
    "import matplotlib.pyplot as plt\n",
    "import numpy as np\n",
    "\n",
    "xpoints = np.array([1, 8])\n",
    "ypoints = np.array([3, 10])\n",
    "\n",
    "plt.plot(xpoints, ypoints)\n",
    "plt.show()"
   ]
  },
  {
   "cell_type": "code",
   "execution_count": 35,
   "id": "fb54b7fd-825e-4930-bbc2-d9098aed30a6",
   "metadata": {},
   "outputs": [
    {
     "data": {
      "image/png": "[encoded data removed]",
      "text/plain": [
       "<Figure size 640x480 with 1 Axes>"
      ]
     },
     "metadata": {},
     "output_type": "display_data"
    }
   ],
   "source": [
    "categories = ['CSE', 'IT', 'SE', 'MCE']\n",
    "values = [25, 35, 20, 20]\n",
    "plt.pie(values, labels=categories, autopct='%1.1f%%', startangle=90)\n",
    "plt.title('Distribution of Categories')\n",
    "plt.show()"
   ]
  },
  {
   "cell_type": "code",
   "execution_count": 36,
   "id": "86564565-4d08-45a9-96bb-55d347bb31dd",
   "metadata": {},
   "outputs": [
    {
     "data": {
      "text/plain": [
       "array([[1., 0., 0., 0., 0., 0.],\n",
       "       [0., 1., 0., 0., 0., 0.],\n",
       "       [0., 0., 1., 0., 0., 0.],\n",
       "       [0., 0., 0., 1., 0., 0.],\n",
       "       [0., 0., 0., 0., 1., 0.],\n",
       "       [0., 0., 0., 0., 0., 1.]])"
      ]
     },
     "execution_count": 36,
     "metadata": {},
     "output_type": "execute_result"
    }
   ],
   "source": [
    "ide=np.identity(6)\n",
    "ide"
   ]
  },
  {
   "cell_type": "code",
   "execution_count": 44,
   "id": "c24a0dd6-4d25-4ffd-a8aa-15a25cec3ccd",
   "metadata": {},
   "outputs": [
    {
     "name": "stdout",
     "output_type": "stream",
     "text": [
      "Mean: [         nan 210.57142857  98.85714286 212.          95.14285714\n",
      " 205.42857143 103.71428571 214.71428571  90.57142857 205.28571429\n",
      "  84.         217.42857143  88.14285714 209.42857143  89.\n",
      " 209.28571429  85.42857143 220.57142857  87.14285714 197.85714286\n",
      " 205.28571429  85.14285714 215.85714286  89.42857143 207.57142857\n",
      "  92.57142857 209.14285714  85.42857143 213.42857143  85.71428571\n",
      " 203.42857143 197.57142857  95.71428571 215.14285714  93.\n",
      " 204.          99.71428571 216.28571429  89.         211.28571429\n",
      "  92.71428571 216.14285714  85.71428571 201.71428571  87.57142857\n",
      " 212.42857143  94.14285714 215.14285714  94.14285714 207.42857143\n",
      "  90.85714286 208.42857143  91.42857143 215.57142857  85.\n",
      " 211.28571429  94.         215.71428571  98.71428571 219.42857143\n",
      "  88.85714286 200.57142857  92.42857143 204.71428571  93.28571429\n",
      " 204.14285714  87.71428571 211.57142857  97.14285714 208.28571429\n",
      "  94.71428571 210.85714286  94.         205.28571429  99.85714286\n",
      " 215.28571429  97.57142857 220.57142857  84.14285714 199.14285714\n",
      "  94.57142857 204.71428571  93.85714286 208.14285714  96.\n",
      " 218.85714286  97.         211.71428571  98.42857143 204.71428571\n",
      "  86.57142857 208.14285714  94.57142857 197.42857143  97.42857143\n",
      " 212.14285714  90.28571429 208.42857143  99.         210.57142857\n",
      "          nan          nan          nan          nan          nan\n",
      "          nan          nan          nan          nan          nan]\n"
     ]
    }
   ],
   "source": [
    "mean = np.mean(data,axis=1)\n",
    "print(\"Mean:\", mean)"
   ]
  },
  {
   "cell_type": "code",
   "execution_count": 45,
   "id": "d16b1ee0-17bd-45c1-b42f-6e4ec5c600b4",
   "metadata": {},
   "outputs": [
    {
     "name": "stdout",
     "output_type": "stream",
     "text": [
      "Median: [nan 28. 36. 29. 35. 27. 34. 28. 37. 27. 39. 26. 38. 29. 37. 24. 39. 28.\n",
      " 36. 28. 27. 37. 26. 38. 29. 37. 24. 39. 28. 36. 29. 26. 39. 26. 38. 29.\n",
      " 37. 24. 39. 26. 37. 28. 36. 28. 39. 26. 38. 26. 38. 29. 37. 24. 39. 27.\n",
      " 38. 27. 37. 28. 37. 28. 36. 25. 39. 27. 40. 27. 38. 27. 37. 29. 38. 27.\n",
      " 40. 27. 36. 28. 39. 28. 40. 28. 39. 29. 38. 28. 39. 28. 36. 28. 39. 28.\n",
      " 40. 28. 39. 29. 38. 28. 39. 28. 36. 28. nan nan nan nan nan nan nan nan\n",
      " nan nan]\n"
     ]
    }
   ],
   "source": [
    "median = np.median(data,axis=1)\n",
    "print(\"Median:\", median)"
   ]
  },
  {
   "cell_type": "code",
   "execution_count": null,
   "id": "1b075534-2323-4ac5-aadf-a73efcc4f8e4",
   "metadata": {},
   "outputs": [],
   "source": []
  }
 ],
 "metadata": {
  "kernelspec": {
   "display_name": "Python 3 (ipykernel)",
   "language": "python",
   "name": "python3"
  },
  "language_info": {
   "codemirror_mode": {
    "name": "ipython",
    "version": 3
   },
   "file_extension": ".py",
   "mimetype": "text/x-python",
   "name": "python",
   "nbconvert_exporter": "python",
   "pygments_lexer": "ipython3",
   "version": "3.12.1"
  }
 },
 "nbformat": 4,
 "nbformat_minor": 5
}
